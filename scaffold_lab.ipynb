{
 "cells": [
  {
   "cell_type": "markdown",
   "metadata": {},
   "source": [
    "<a href=\"https://colab.research.google.com/github/Immortals-33/Scaffold-Lab/blob/main/scaffold_lab.ipynb\" target=\"_parent\"><img src=\"https://colab.research.google.com/assets/colab-badge.svg\" alt=\"Open In Colab\"/></a>\n"
   ]
  },
  {
   "cell_type": "markdown",
   "metadata": {},
   "source": [
    "### Environment set up"
   ]
  },
  {
   "cell_type": "code",
   "execution_count": null,
   "metadata": {},
   "outputs": [],
   "source": [
    "#@title Clone github repo and ProteinMPNN\n",
    "import json, time, os, sys, glob\n",
    "\n",
    "if not os.path.isdir(\"Scaffold-Lab\"):\n",
    "  os.system(\"git clone -q https://github.com/Immortals-33/Scaffold-Lab.git\")\n",
    "sys.path.append('/content/Scaffold-Lab')\n",
    "\n",
    "if not os.path.isdir(\"ProteinMPNN\"):\n",
    "  os.system(\"git clone -q https://github.com/dauparas/ProteinMPNN.git\")\n",
    "sys.path.append('/content/ProteinMPNN')"
   ]
  },
  {
   "cell_type": "code",
   "execution_count": null,
   "metadata": {},
   "outputs": [],
   "source": [
    "#@title  ESM / ESMFold Installation\n",
    "\n",
    "!pip install -q fair-esm  # latest release, OR:\n",
    "!pip install -q git+https://github.com/facebookresearch/esm.git  # bleeding edge, current repo main branch\n",
    "!pip install \"fair-esm[esmfold]\"\n",
    "# OpenFold and its remaining dependency\n",
    "!pip install 'dllogger @ git+https://github.com/NVIDIA/dllogger.git'\n",
    "!pip install 'openfold @ git+https://github.com/aqlaboratory/openfold.git@4b41059694619831a7db195b7e0988fc4ff3a307'"
   ]
  },
  {
   "cell_type": "markdown",
   "metadata": {},
   "source": [
    "### ProteinMPNN redesign"
   ]
  },
  {
   "cell_type": "markdown",
   "metadata": {},
   "source": [
    "### ESMFold prediction"
   ]
  },
  {
   "cell_type": "markdown",
   "metadata": {},
   "source": []
  }
 ],
 "metadata": {
  "language_info": {
   "name": "python"
  }
 },
 "nbformat": 4,
 "nbformat_minor": 2
}
