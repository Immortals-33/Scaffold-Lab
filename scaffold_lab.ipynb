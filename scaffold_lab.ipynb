{
 "cells": [
  {
   "cell_type": "code",
   "execution_count": null,
   "metadata": {},
   "outputs": [],
   "source": [
    "#@title Clone github repo and ProteinMPNN\n",
    "import json, time, os, sys, glob\n",
    "\n",
    "if not os.path.isdir(\"Scaffold-Lab\"):\n",
    "  os.system(\"git clone -q https://github.com/Immortals-33/Scaffold-Lab.git\")\n",
    "sys.path.append('/content/Scaffold-Lab')"
   ]
  },
  {
   "cell_type": "code",
   "execution_count": null,
   "metadata": {},
   "outputs": [],
   "source": [
    "#@title Install Related Libraries\n",
    "!pip install hydra-core --upgrade\n",
    "!pip install rootutils GPUtil biotite\n",
    "!pip install ProDy\n",
    "\n",
    "!pip install --upgrade MDAnalysis\n",
    "!pip install mdtraj tmtools\n",
    "!pip install hydra-joblib-launcher --upgrade"
   ]
  },
  {
   "cell_type": "code",
   "execution_count": null,
   "metadata": {},
   "outputs": [],
   "source": [
    "#@title Install ESMFold\n",
    "import os, time\n",
    "# install libs\n",
    "print(\"installing libs...\")\n",
    "os.system(\"pip install -q omegaconf pytorch_lightning biopython ml_collections einops py3Dmol modelcif\")\n",
    "os.system(\"pip install -q git+https://github.com/NVIDIA/dllogger.git\")\n",
    "\n",
    "print(\"installing openfold...\")\n",
    "# install openfold\n",
    "os.system(f\"pip install -q git+https://github.com/sokrypton/openfold.git\")\n",
    "\n",
    "print(\"installing esmfold...\")\n",
    "# install esmfold\n",
    "os.system(f\"pip install -q git+https://github.com/sokrypton/esm.git\")\n",
    "os.system(\"touch finished_install\")\n"
   ]
  },
  {
   "cell_type": "code",
   "execution_count": null,
   "metadata": {},
   "outputs": [],
   "source": [
    "#@title Config\n",
    "\n",
    "mode = \"motif_scaffolding\" #@param [\"unconditional\", \"motif_scaffolding\"]\n",
    "#@markdown - task name : unconditional generation or motif scaffolding\n",
    "query_pdb_folder = '/content/Scaffold-Lab/demo/motif_scaffolding/2KL8/' #@param {type:\"string\"}\n",
    "#@markdown - customised pdb file path, you can direct to your colab path\n",
    "contig_str = 'none' #@param {type:\"string\"}\n",
    "#@markdown - **only motif scaffolding** : information on motifs and scaffolds of each designed protein such as \"A1-7/20-20/A28-79\"\n",
    "contig_csv = '/content/Scaffold-Lab/demo/motif_scaffolding/motif_info.csv' #@param {type:\"string\"}\n",
    "#@markdown - **only motif scaffolding** : information on motifs and scaffolds of each designed protein, only used in motif_scaffolding problem.This is particularly important when sample length-variable scaffolds for a single case, for different samples correspond to different motif regions.\n",
    "native_pdb_folder = '/content/Scaffold-Lab/demo/motif_scaffolding/reference_pdbs' #@param {type:\"string\"}\n",
    "#@markdown - **only motif scaffolding** : ground truth pdb folder \n",
    "metric = \"scRMSD_pAE_motifRMSD\" #@param [\"scRMSD_pLDDT_motifRMSD\", \"scRMSD_pAE_motifRMSD\"]\n",
    "#@markdown - the in silico computation metric for successful design"
   ]
  },
  {
   "cell_type": "code",
   "execution_count": null,
   "metadata": {},
   "outputs": [],
   "source": [
    "#@title Fixed backbone design and Refolding\n",
    "if mode == \"motif_scaffolding\":\n",
    "  !python /content/Scaffold-Lab/scaffold_lab/motif_scaffolding/motif_refolding.py inference.backbone_pdb_dir=f'{query_pdb_folder}' inference.output_dir='./' inference.motif_csv_dir=f'{contig_csv}' inference.input_pdbs_dir=f'{native_pdb_folder}'\n",
    "elif mode == \"unconditional\":\n",
    "  !python /content/Scaffold-Lab/scaffold_lab/unconditional/refolding.py inference.backbone_pdb_dir=f'{query_pdb_folder}' inference.output_dir='./'"
   ]
  }
 ],
 "metadata": {
  "language_info": {
   "name": "python"
  }
 },
 "nbformat": 4,
 "nbformat_minor": 2
}
