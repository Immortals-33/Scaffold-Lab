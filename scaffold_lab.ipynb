{
 "cells": [
  {
   "cell_type": "code",
   "execution_count": null,
   "metadata": {},
   "outputs": [],
   "source": [
    "#@title Clone github repo and ProteinMPNN\n",
    "import json, time, os, sys, glob\n",
    "\n",
    "if not os.path.isdir(\"Scaffold-Lab\"):\n",
    "  os.system(\"git clone -q https://github.com/Immortals-33/Scaffold-Lab.git\")\n",
    "sys.path.append('/content/Scaffold-Lab')"
   ]
  },
  {
   "cell_type": "code",
   "execution_count": null,
   "metadata": {},
   "outputs": [],
   "source": [
    "#@title Install Related Libraries\n",
    "!pip install pydantic==1.10.12\n",
    "!pip install triton==1.0.0\n",
    "!pip install rootutils GPUtil biotite\n",
    "\n",
    "!pip install --upgrade MDAnalysis\n",
    "!pip install mdtraj tmtools\n",
    "!pip install pandas\n",
    "!pip install dm-tree\n",
    "!pip install hydra-core --upgrade\n",
    "!pip install esm\n",
    "\n",
    "!pip install hydra-joblib-launcher --upgrade\n",
    "!pip install hydra-core --upgrade\n"
   ]
  },
  {
   "cell_type": "code",
   "execution_count": null,
   "metadata": {},
   "outputs": [],
   "source": [
    "#@title Install PyMol\n",
    "from IPython.utils import io\n",
    "import tqdm.notebook\n",
    "import os\n",
    "\"\"\"The PyMOL installation is done inside two nested context managers. This approach\n",
    "was inspired by Dr. Christopher Schlicksup's (of the Phenix group at\n",
    "Lawrence Berkeley National Laboratory) method for installing cctbx\n",
    "in a Colab Notebook. He presented his work on September 1, 2021 at the IUCr\n",
    "Crystallographic Computing School. I adapted Chris's approach here. It replaces my first approach\n",
    "that requires seven steps. My approach was presentated at the SciPy2021 conference\n",
    "in July 2021 and published in the\n",
    "[proceedings](http://conference.scipy.org/proceedings/scipy2021/blaine_mooers.html).\n",
    "The new approach is easier for beginners to use. The old approach is easier to debug\n",
    "and could be used as a back-up approach.\n",
    "\n",
    "\"\"\"\n",
    "total = 100\n",
    "with tqdm.notebook.tqdm(total=total) as pbar:\n",
    "    with io.capture_output() as captured:\n",
    "\n",
    "        !pip install -q condacolab\n",
    "        import condacolab\n",
    "        condacolab.install()\n",
    "        pbar.update(10)\n",
    "\n",
    "        import sys\n",
    "        sys.path.append('/usr/local/lib/python3.7/site-packages/')\n",
    "        pbar.update(20)\n",
    "\n",
    "        # Install PyMOL\n",
    "        %shell mamba install -c schrodinger pymol-bundle --yes\n",
    "\n",
    "        pbar.update(90)\n",
    "\n",
    "        # Mount Google Drive and upload your PyMOL license\n",
    "        #from google.colab import drive\n",
    "        #drive.mount(\"/content/drive\")\n",
    "        #print(os.listdir(\"/content/drive/MyDrive\"))\n",
    "        #%shell cp ./pymol-edu-license.lic .\n",
    "        pbar.update(100)\n"
   ]
  },
  {
   "cell_type": "code",
   "execution_count": null,
   "metadata": {},
   "outputs": [],
   "source": [
    "#@title Config\n",
    "\n",
    "mode = \"motif_scaffolding\" #@param [\"unconditional\", \"motif_scaffolding\"]\n",
    "#@markdown - task name : unconditional generation or motif scaffolding\n",
    "query_pdb_folder = '/content/Scaffold-Lab/demo/motif_scaffolding/2KL8/' #@param {type:\"string\"}\n",
    "#@markdown - customised pdb file path, you can direct to your colab path\n",
    "contig_str = 'none' #@param {type:\"string\"}\n",
    "#@markdown - **only motif scaffolding** : information on motifs and scaffolds of each designed protein such as \"A1-7/20-20/A28-79\"\n",
    "contig_csv = '/content/Scaffold-Lab/demo/motif_scaffolding/motif_info.csv' #@param {type:\"string\"}\n",
    "#@markdown - **only motif scaffolding** : information on motifs and scaffolds of each designed protein, only used in motif_scaffolding problem.This is particularly important when sample length-variable scaffolds for a single case, for different samples correspond to different motif regions.\n",
    "native_pdb_folder = '/content/Scaffold-Lab/demo/motif_scaffolding/reference_pdbs' #@param {type:\"string\"}\n",
    "#@markdown - **only motif scaffolding** : ground truth pdb folder \n",
    "metric = \"scRMSD_pAE_motifRMSD\" #@param [\"scRMSD_pLDDT_motifRMSD\", \"scRMSD_pAE_motifRMSD\"]\n",
    "#@markdown - the in silico computation metric for successful design"
   ]
  },
  {
   "cell_type": "code",
   "execution_count": null,
   "metadata": {},
   "outputs": [],
   "source": [
    "#@title Fixed backbone design and Refolding\n",
    "if mode == \"motif_scaffolding\":\n",
    "  !python /content/Scaffold-Lab/scaffold_lab/motif_scaffolding/motif_refolding_hugginface.py inference.backbone_pdb_dir=f'{query_pdb_folder}' inference.output_dir='./' inference.motif_csv_dir=f'{contig_csv}' inference.input_pdbs_dir=f'{native_pdb_folder}'\n",
    "elif mode == \"unconditional\":\n",
    "  !python /content/Scaffold-Lab/scaffold_lab/unconditional/refolding_huggingface.py inference.backbone_pdb_dir=f'{query_pdb_folder}' inference.output_dir='./'"
   ]
  },
  {
   "cell_type": "code",
   "execution_count": null,
   "metadata": {},
   "outputs": [],
   "source": []
  }
 ],
 "metadata": {
  "language_info": {
   "name": "python"
  }
 },
 "nbformat": 4,
 "nbformat_minor": 2
}
